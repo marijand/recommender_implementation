{
 "cells": [
  {
   "cell_type": "markdown",
   "metadata": {},
   "source": [
    "# Prototype of a recommender"
   ]
  },
  {
   "cell_type": "markdown",
   "metadata": {},
   "source": [
    "### Resources used\n"
   ]
  },
  {
   "cell_type": "markdown",
   "metadata": {},
   "source": [
    "# Import packages"
   ]
  },
  {
   "cell_type": "code",
   "execution_count": 2,
   "metadata": {},
   "outputs": [
    {
     "name": "stderr",
     "output_type": "stream",
     "text": [
      "Using TensorFlow backend.\n",
      "/Users/marijan/opt/anaconda3/lib/python3.7/site-packages/tensorflow/python/framework/dtypes.py:526: FutureWarning: Passing (type, 1) or '1type' as a synonym of type is deprecated; in a future version of numpy, it will be understood as (type, (1,)) / '(1,)type'.\n",
      "  _np_qint8 = np.dtype([(\"qint8\", np.int8, 1)])\n",
      "/Users/marijan/opt/anaconda3/lib/python3.7/site-packages/tensorflow/python/framework/dtypes.py:527: FutureWarning: Passing (type, 1) or '1type' as a synonym of type is deprecated; in a future version of numpy, it will be understood as (type, (1,)) / '(1,)type'.\n",
      "  _np_quint8 = np.dtype([(\"quint8\", np.uint8, 1)])\n",
      "/Users/marijan/opt/anaconda3/lib/python3.7/site-packages/tensorflow/python/framework/dtypes.py:528: FutureWarning: Passing (type, 1) or '1type' as a synonym of type is deprecated; in a future version of numpy, it will be understood as (type, (1,)) / '(1,)type'.\n",
      "  _np_qint16 = np.dtype([(\"qint16\", np.int16, 1)])\n",
      "/Users/marijan/opt/anaconda3/lib/python3.7/site-packages/tensorflow/python/framework/dtypes.py:529: FutureWarning: Passing (type, 1) or '1type' as a synonym of type is deprecated; in a future version of numpy, it will be understood as (type, (1,)) / '(1,)type'.\n",
      "  _np_quint16 = np.dtype([(\"quint16\", np.uint16, 1)])\n",
      "/Users/marijan/opt/anaconda3/lib/python3.7/site-packages/tensorflow/python/framework/dtypes.py:530: FutureWarning: Passing (type, 1) or '1type' as a synonym of type is deprecated; in a future version of numpy, it will be understood as (type, (1,)) / '(1,)type'.\n",
      "  _np_qint32 = np.dtype([(\"qint32\", np.int32, 1)])\n",
      "/Users/marijan/opt/anaconda3/lib/python3.7/site-packages/tensorflow/python/framework/dtypes.py:535: FutureWarning: Passing (type, 1) or '1type' as a synonym of type is deprecated; in a future version of numpy, it will be understood as (type, (1,)) / '(1,)type'.\n",
      "  np_resource = np.dtype([(\"resource\", np.ubyte, 1)])\n"
     ]
    }
   ],
   "source": [
    "# General packages\n",
    "import numpy as np\n",
    "import pandas as pd\n",
    "import matplotlib.pyplot as plt\n",
    "import seaborn as sns\n",
    "\n",
    "# Packages required for Deep Learning\n",
    "from sklearn.model_selection import train_test_split\n",
    "from sklearn.preprocessing import LabelEncoder\n",
    "from keras.models import Model\n",
    "from keras.layers import Input, Reshape, Dot\n",
    "from keras.layers.embeddings import Embedding\n",
    "from keras.optimizers import Adam\n",
    "from keras.regularizers import l2\n",
    "from keras.layers import Add, Activation, Lambda\n",
    "from keras.layers import Concatenate, Dense, Dropout"
   ]
  },
  {
   "cell_type": "markdown",
   "metadata": {},
   "source": [
    "# Load data\n",
    "For this prototype I use the [Amazon Product Reviews](https://www.kaggle.com/saurav9786/amazon-product-reviews) dataset from [Kaggle](www.kaggle.com). \n",
    "\n",
    "The dataset includes data on electronic products from Amazon. I added the column names in the dataset manually as they were not maintained before."
   ]
  },
  {
   "cell_type": "code",
   "execution_count": 3,
   "metadata": {},
   "outputs": [
    {
     "data": {
      "text/html": [
       "<div>\n",
       "<style scoped>\n",
       "    .dataframe tbody tr th:only-of-type {\n",
       "        vertical-align: middle;\n",
       "    }\n",
       "\n",
       "    .dataframe tbody tr th {\n",
       "        vertical-align: top;\n",
       "    }\n",
       "\n",
       "    .dataframe thead th {\n",
       "        text-align: right;\n",
       "    }\n",
       "</style>\n",
       "<table border=\"1\" class=\"dataframe\">\n",
       "  <thead>\n",
       "    <tr style=\"text-align: right;\">\n",
       "      <th></th>\n",
       "      <th>userId</th>\n",
       "      <th>productId</th>\n",
       "      <th>rating</th>\n",
       "      <th>timestamp</th>\n",
       "    </tr>\n",
       "  </thead>\n",
       "  <tbody>\n",
       "    <tr>\n",
       "      <td>0</td>\n",
       "      <td>AKM1MP6P0OYPR</td>\n",
       "      <td>0132793040</td>\n",
       "      <td>5.0</td>\n",
       "      <td>1365811200</td>\n",
       "    </tr>\n",
       "    <tr>\n",
       "      <td>1</td>\n",
       "      <td>A2CX7LUOHB2NDG</td>\n",
       "      <td>0321732944</td>\n",
       "      <td>5.0</td>\n",
       "      <td>1341100800</td>\n",
       "    </tr>\n",
       "    <tr>\n",
       "      <td>2</td>\n",
       "      <td>A2NWSAGRHCP8N5</td>\n",
       "      <td>0439886341</td>\n",
       "      <td>1.0</td>\n",
       "      <td>1367193600</td>\n",
       "    </tr>\n",
       "    <tr>\n",
       "      <td>3</td>\n",
       "      <td>A2WNBOD3WNDNKT</td>\n",
       "      <td>0439886341</td>\n",
       "      <td>3.0</td>\n",
       "      <td>1374451200</td>\n",
       "    </tr>\n",
       "    <tr>\n",
       "      <td>4</td>\n",
       "      <td>A1GI0U4ZRJA8WN</td>\n",
       "      <td>0439886341</td>\n",
       "      <td>1.0</td>\n",
       "      <td>1334707200</td>\n",
       "    </tr>\n",
       "  </tbody>\n",
       "</table>\n",
       "</div>"
      ],
      "text/plain": [
       "           userId   productId  rating   timestamp\n",
       "0   AKM1MP6P0OYPR  0132793040     5.0  1365811200\n",
       "1  A2CX7LUOHB2NDG  0321732944     5.0  1341100800\n",
       "2  A2NWSAGRHCP8N5  0439886341     1.0  1367193600\n",
       "3  A2WNBOD3WNDNKT  0439886341     3.0  1374451200\n",
       "4  A1GI0U4ZRJA8WN  0439886341     1.0  1334707200"
      ]
     },
     "execution_count": 3,
     "metadata": {},
     "output_type": "execute_result"
    }
   ],
   "source": [
    "electronics_ratings = pd.read_csv(\"ratings_electronics.csv\")\n",
    "\n",
    "electronics_ratings.head()"
   ]
  },
  {
   "cell_type": "markdown",
   "metadata": {},
   "source": [
    "# Data Analysis\n",
    "\n",
    "## Results of data analysis\n",
    "#### General information\n",
    "- Dataset has 7,824,482 rows and 4 columns:\n",
    "    - **userId (object):** Every user identified with a unique id (First Column)\n",
    "    - **productId (object):** Every product identified with a unique id(Second Column)\n",
    "    - **rating (float64):** Rating of the corresponding product by the corresponding user(Third Column)\n",
    "    - **timestamp (int64):** Time of the rating ( Fourth Column)\n",
    " \n",
    "- **No values are missing** in neither of the columns\n",
    "\n",
    "#### Information on ratings\n",
    "- There are 7,824,482 ratings in the dataset.\n",
    "- Ratings range from 1.0 to 5.0\n",
    "- The ratings are strongly skwed with more than half of the ratings being rated with 5.0. This is also shown in the mean which is 4.01.\n",
    "\n",
    "#### Information on releation between ratings and users\n",
    "- There are 4,201,696 unique users in the dataset.\n",
    "- On average each user rates 1.86 products.\n",
    "- The plot \"Number of ratings per user\" also visualizes that most of the user make on average 1.86 ratings. However, there are also some clear outliers. Fousing at the top 4.25 % of the users, each of them makes more than 5 ratings. The user with the most ratings made 520 ratings.\n",
    "\n",
    "#### Information on releation between ratings and products\n",
    "- There are 476,002 unique products in the dataset.\n",
    "- On average each product is rated by 16.44 users.\n",
    "- The plot \"Number of ratings per product\" also visualizes that most of the products receive on average 16.44 ratings. However, there are also some clear outliers. Fousing at the top 6.74 % of the products, each of them receives more than 20 ratings. The product with the most ratings received 18,244 ratings."
   ]
  },
  {
   "cell_type": "markdown",
   "metadata": {},
   "source": [
    "## General information"
   ]
  },
  {
   "cell_type": "code",
   "execution_count": 4,
   "metadata": {},
   "outputs": [
    {
     "data": {
      "text/plain": [
       "(7824482, 4)"
      ]
     },
     "execution_count": 4,
     "metadata": {},
     "output_type": "execute_result"
    }
   ],
   "source": [
    "# Check the shape of dataset\n",
    "electronics_ratings.shape"
   ]
  },
  {
   "cell_type": "code",
   "execution_count": 5,
   "metadata": {},
   "outputs": [
    {
     "data": {
      "text/plain": [
       "userId        object\n",
       "productId     object\n",
       "rating       float64\n",
       "timestamp      int64\n",
       "dtype: object"
      ]
     },
     "execution_count": 5,
     "metadata": {},
     "output_type": "execute_result"
    }
   ],
   "source": [
    "# Check the datatypes of each column\n",
    "electronics_ratings.dtypes"
   ]
  },
  {
   "cell_type": "code",
   "execution_count": 6,
   "metadata": {},
   "outputs": [
    {
     "name": "stdout",
     "output_type": "stream",
     "text": [
      "Number of missing values across columns:\n",
      "userId       0\n",
      "productId    0\n",
      "rating       0\n",
      "timestamp    0\n",
      "dtype: int64\n"
     ]
    }
   ],
   "source": [
    "# Check for missing values\n",
    "print('Number of missing values across columns:\\n{}'.format(electronics_ratings.isnull().sum()))"
   ]
  },
  {
   "cell_type": "code",
   "execution_count": 7,
   "metadata": {},
   "outputs": [],
   "source": [
    "# Drop timestamp column as it is not required\n",
    "electronics_ratings.drop(['timestamp'], axis=1,inplace=True)"
   ]
  },
  {
   "cell_type": "markdown",
   "metadata": {},
   "source": [
    "## Information on ratings"
   ]
  },
  {
   "cell_type": "code",
   "execution_count": 8,
   "metadata": {},
   "outputs": [
    {
     "data": {
      "text/plain": [
       "count    7.824482e+06\n",
       "mean     4.012337e+00\n",
       "std      1.380910e+00\n",
       "min      1.000000e+00\n",
       "25%      3.000000e+00\n",
       "50%      5.000000e+00\n",
       "75%      5.000000e+00\n",
       "max      5.000000e+00\n",
       "Name: rating, dtype: float64"
      ]
     },
     "execution_count": 8,
     "metadata": {},
     "output_type": "execute_result"
    }
   ],
   "source": [
    "# Five point summary of rating column\n",
    "electronics_ratings.describe()['rating']"
   ]
  },
  {
   "cell_type": "code",
   "execution_count": 9,
   "metadata": {},
   "outputs": [
    {
     "data": {
      "text/plain": [
       "Text(0.5, 1.0, 'Distribution of product ratings')"
      ]
     },
     "execution_count": 9,
     "metadata": {},
     "output_type": "execute_result"
    },
    {
     "data": {
      "image/png": "[encoded data removed]",
      "text/plain": [
       "<Figure size 1008x504 with 1 Axes>"
      ]
     },
     "metadata": {},
     "output_type": "display_data"
    }
   ],
   "source": [
    "# Shows the distribution of product ratings\n",
    "sns.set_style(\"whitegrid\")\n",
    "plt.figure(figsize=(14,7))\n",
    "plt.subplot()\n",
    "ax = sns.countplot(x=\"rating\", data=electronics_ratings, palette=\"viridis\")\n",
    "plt.xlabel(\"Rating\")\n",
    "plt.ylabel(\"Number of ratings\")\n",
    "plt.title(\"Distribution of product ratings\")"
   ]
  },
  {
   "cell_type": "markdown",
   "metadata": {},
   "source": [
    "## Information on releation between ratings and users"
   ]
  },
  {
   "cell_type": "code",
   "execution_count": 10,
   "metadata": {},
   "outputs": [
    {
     "data": {
      "text/html": [
       "<div>\n",
       "<style scoped>\n",
       "    .dataframe tbody tr th:only-of-type {\n",
       "        vertical-align: middle;\n",
       "    }\n",
       "\n",
       "    .dataframe tbody tr th {\n",
       "        vertical-align: top;\n",
       "    }\n",
       "\n",
       "    .dataframe thead th {\n",
       "        text-align: right;\n",
       "    }\n",
       "</style>\n",
       "<table border=\"1\" class=\"dataframe\">\n",
       "  <thead>\n",
       "    <tr style=\"text-align: right;\">\n",
       "      <th></th>\n",
       "      <th>UserId</th>\n",
       "      <th>Number of Ratings</th>\n",
       "    </tr>\n",
       "  </thead>\n",
       "  <tbody>\n",
       "    <tr>\n",
       "      <td>3263531</td>\n",
       "      <td>A5JLAU2ARJ0BO</td>\n",
       "      <td>520</td>\n",
       "    </tr>\n",
       "    <tr>\n",
       "      <td>3512451</td>\n",
       "      <td>ADLVFFE4VBT8</td>\n",
       "      <td>501</td>\n",
       "    </tr>\n",
       "    <tr>\n",
       "      <td>2989526</td>\n",
       "      <td>A3OXHLG6DIBRW8</td>\n",
       "      <td>498</td>\n",
       "    </tr>\n",
       "    <tr>\n",
       "      <td>3291008</td>\n",
       "      <td>A6FIAB28IS79</td>\n",
       "      <td>431</td>\n",
       "    </tr>\n",
       "    <tr>\n",
       "      <td>3284634</td>\n",
       "      <td>A680RUE1FDO8B</td>\n",
       "      <td>406</td>\n",
       "    </tr>\n",
       "  </tbody>\n",
       "</table>\n",
       "</div>"
      ],
      "text/plain": [
       "                 UserId  Number of Ratings\n",
       "3263531   A5JLAU2ARJ0BO                520\n",
       "3512451    ADLVFFE4VBT8                501\n",
       "2989526  A3OXHLG6DIBRW8                498\n",
       "3291008    A6FIAB28IS79                431\n",
       "3284634   A680RUE1FDO8B                406"
      ]
     },
     "execution_count": 10,
     "metadata": {},
     "output_type": "execute_result"
    }
   ],
   "source": [
    "# Gets number of ratings per user\n",
    "number_of_ratings_per_user = electronics_ratings[['userId', 'productId']].groupby('userId').count().reset_index().sort_values(by=[\"productId\"], ascending=False)\n",
    "number_of_ratings_per_user.columns = ['UserId', 'Number of Ratings']\n",
    "number_of_ratings_per_user.head()"
   ]
  },
  {
   "cell_type": "code",
   "execution_count": 11,
   "metadata": {},
   "outputs": [
    {
     "data": {
      "text/html": [
       "<div>\n",
       "<style scoped>\n",
       "    .dataframe tbody tr th:only-of-type {\n",
       "        vertical-align: middle;\n",
       "    }\n",
       "\n",
       "    .dataframe tbody tr th {\n",
       "        vertical-align: top;\n",
       "    }\n",
       "\n",
       "    .dataframe thead th {\n",
       "        text-align: right;\n",
       "    }\n",
       "</style>\n",
       "<table border=\"1\" class=\"dataframe\">\n",
       "  <thead>\n",
       "    <tr style=\"text-align: right;\">\n",
       "      <th></th>\n",
       "      <th>Number of Ratings</th>\n",
       "    </tr>\n",
       "  </thead>\n",
       "  <tbody>\n",
       "    <tr>\n",
       "      <td>count</td>\n",
       "      <td>4.201696e+06</td>\n",
       "    </tr>\n",
       "    <tr>\n",
       "      <td>mean</td>\n",
       "      <td>1.862220e+00</td>\n",
       "    </tr>\n",
       "    <tr>\n",
       "      <td>std</td>\n",
       "      <td>2.885110e+00</td>\n",
       "    </tr>\n",
       "    <tr>\n",
       "      <td>min</td>\n",
       "      <td>1.000000e+00</td>\n",
       "    </tr>\n",
       "    <tr>\n",
       "      <td>25%</td>\n",
       "      <td>1.000000e+00</td>\n",
       "    </tr>\n",
       "    <tr>\n",
       "      <td>50%</td>\n",
       "      <td>1.000000e+00</td>\n",
       "    </tr>\n",
       "    <tr>\n",
       "      <td>75%</td>\n",
       "      <td>2.000000e+00</td>\n",
       "    </tr>\n",
       "    <tr>\n",
       "      <td>max</td>\n",
       "      <td>5.200000e+02</td>\n",
       "    </tr>\n",
       "  </tbody>\n",
       "</table>\n",
       "</div>"
      ],
      "text/plain": [
       "       Number of Ratings\n",
       "count       4.201696e+06\n",
       "mean        1.862220e+00\n",
       "std         2.885110e+00\n",
       "min         1.000000e+00\n",
       "25%         1.000000e+00\n",
       "50%         1.000000e+00\n",
       "75%         2.000000e+00\n",
       "max         5.200000e+02"
      ]
     },
     "execution_count": 11,
     "metadata": {},
     "output_type": "execute_result"
    }
   ],
   "source": [
    "# Get five point summary to get better understanding about distribution of the ratings per user\n",
    "number_of_ratings_per_user.describe()"
   ]
  },
  {
   "cell_type": "code",
   "execution_count": 12,
   "metadata": {},
   "outputs": [
    {
     "data": {
      "text/plain": [
       "Text(0.5, 0, 'Value at the quantile')"
      ]
     },
     "execution_count": 12,
     "metadata": {},
     "output_type": "execute_result"
    },
    {
     "data": {
      "image/png": "[encoded data removed]",
      "text/plain": [
       "<Figure size 432x288 with 1 Axes>"
      ]
     },
     "metadata": {},
     "output_type": "display_data"
    }
   ],
   "source": [
    "# Shows the number of ratings per user mapped to quantiles\n",
    "quantiles = number_of_ratings_per_user.quantile(np.arange(0,1.01,0.01))\n",
    "plt.plot(quantiles)\n",
    "plt.title(\"Number of ratings per user\")\n",
    "plt.ylabel('Number of ratings per user')\n",
    "plt.xlabel('Value at the quantile')"
   ]
  },
  {
   "cell_type": "code",
   "execution_count": 13,
   "metadata": {},
   "outputs": [
    {
     "name": "stdout",
     "output_type": "stream",
     "text": [
      "Total number of users: 4201696\n",
      "Number of users making more than 5 ratings: 178669\n",
      "% of users making more than 5 rating: 4.25 %\n"
     ]
    }
   ],
   "source": [
    "# Percentage of users that makes more than 5 ratings\n",
    "total_users = sum(number_of_ratings_per_user.iloc[:,1] >= 0)\n",
    "fraction_users = sum(number_of_ratings_per_user.iloc[:,1] > 5)\n",
    "percentage = fraction_users/total_users*100\n",
    "\n",
    "print('Total number of users: {}'.format(total_users))\n",
    "print('Number of users making more than 5 ratings: {}'.format(fraction_users))\n",
    "print('% of users making more than 5 rating: {:.2f} %'.format(percentage))"
   ]
  },
  {
   "cell_type": "markdown",
   "metadata": {},
   "source": [
    "## Information on releation between ratings and products"
   ]
  },
  {
   "cell_type": "code",
   "execution_count": 14,
   "metadata": {},
   "outputs": [
    {
     "data": {
      "text/html": [
       "<div>\n",
       "<style scoped>\n",
       "    .dataframe tbody tr th:only-of-type {\n",
       "        vertical-align: middle;\n",
       "    }\n",
       "\n",
       "    .dataframe tbody tr th {\n",
       "        vertical-align: top;\n",
       "    }\n",
       "\n",
       "    .dataframe thead th {\n",
       "        text-align: right;\n",
       "    }\n",
       "</style>\n",
       "<table border=\"1\" class=\"dataframe\">\n",
       "  <thead>\n",
       "    <tr style=\"text-align: right;\">\n",
       "      <th></th>\n",
       "      <th>ProductId</th>\n",
       "      <th>Number of Ratings</th>\n",
       "    </tr>\n",
       "  </thead>\n",
       "  <tbody>\n",
       "    <tr>\n",
       "      <td>308398</td>\n",
       "      <td>B0074BW614</td>\n",
       "      <td>18244</td>\n",
       "    </tr>\n",
       "    <tr>\n",
       "      <td>429572</td>\n",
       "      <td>B00DR0PDNE</td>\n",
       "      <td>16454</td>\n",
       "    </tr>\n",
       "    <tr>\n",
       "      <td>327308</td>\n",
       "      <td>B007WTAJTO</td>\n",
       "      <td>14172</td>\n",
       "    </tr>\n",
       "    <tr>\n",
       "      <td>102804</td>\n",
       "      <td>B0019EHU8G</td>\n",
       "      <td>12285</td>\n",
       "    </tr>\n",
       "    <tr>\n",
       "      <td>296625</td>\n",
       "      <td>B006GWO5WK</td>\n",
       "      <td>12226</td>\n",
       "    </tr>\n",
       "  </tbody>\n",
       "</table>\n",
       "</div>"
      ],
      "text/plain": [
       "         ProductId  Number of Ratings\n",
       "308398  B0074BW614              18244\n",
       "429572  B00DR0PDNE              16454\n",
       "327308  B007WTAJTO              14172\n",
       "102804  B0019EHU8G              12285\n",
       "296625  B006GWO5WK              12226"
      ]
     },
     "execution_count": 14,
     "metadata": {},
     "output_type": "execute_result"
    }
   ],
   "source": [
    "# Gets number of ratings per product\n",
    "number_of_ratings_per_product = electronics_ratings[['productId', 'userId']].groupby('productId').count().reset_index().sort_values(by=[\"userId\"], ascending=False)\n",
    "number_of_ratings_per_product.columns = ['ProductId', 'Number of Ratings']\n",
    "number_of_ratings_per_product.head()"
   ]
  },
  {
   "cell_type": "code",
   "execution_count": 15,
   "metadata": {},
   "outputs": [
    {
     "data": {
      "text/html": [
       "<div>\n",
       "<style scoped>\n",
       "    .dataframe tbody tr th:only-of-type {\n",
       "        vertical-align: middle;\n",
       "    }\n",
       "\n",
       "    .dataframe tbody tr th {\n",
       "        vertical-align: top;\n",
       "    }\n",
       "\n",
       "    .dataframe thead th {\n",
       "        text-align: right;\n",
       "    }\n",
       "</style>\n",
       "<table border=\"1\" class=\"dataframe\">\n",
       "  <thead>\n",
       "    <tr style=\"text-align: right;\">\n",
       "      <th></th>\n",
       "      <th>Number of Ratings</th>\n",
       "    </tr>\n",
       "  </thead>\n",
       "  <tbody>\n",
       "    <tr>\n",
       "      <td>count</td>\n",
       "      <td>476002.000000</td>\n",
       "    </tr>\n",
       "    <tr>\n",
       "      <td>mean</td>\n",
       "      <td>16.437918</td>\n",
       "    </tr>\n",
       "    <tr>\n",
       "      <td>std</td>\n",
       "      <td>112.702633</td>\n",
       "    </tr>\n",
       "    <tr>\n",
       "      <td>min</td>\n",
       "      <td>1.000000</td>\n",
       "    </tr>\n",
       "    <tr>\n",
       "      <td>25%</td>\n",
       "      <td>1.000000</td>\n",
       "    </tr>\n",
       "    <tr>\n",
       "      <td>50%</td>\n",
       "      <td>2.000000</td>\n",
       "    </tr>\n",
       "    <tr>\n",
       "      <td>75%</td>\n",
       "      <td>7.000000</td>\n",
       "    </tr>\n",
       "    <tr>\n",
       "      <td>max</td>\n",
       "      <td>18244.000000</td>\n",
       "    </tr>\n",
       "  </tbody>\n",
       "</table>\n",
       "</div>"
      ],
      "text/plain": [
       "       Number of Ratings\n",
       "count      476002.000000\n",
       "mean           16.437918\n",
       "std           112.702633\n",
       "min             1.000000\n",
       "25%             1.000000\n",
       "50%             2.000000\n",
       "75%             7.000000\n",
       "max         18244.000000"
      ]
     },
     "execution_count": 15,
     "metadata": {},
     "output_type": "execute_result"
    }
   ],
   "source": [
    "# Get five point summary to get better understanding about distribution of the ratings per user\n",
    "number_of_ratings_per_product.describe()"
   ]
  },
  {
   "cell_type": "code",
   "execution_count": 16,
   "metadata": {},
   "outputs": [
    {
     "data": {
      "text/plain": [
       "Text(0.5, 0, 'Value at the quantile')"
      ]
     },
     "execution_count": 16,
     "metadata": {},
     "output_type": "execute_result"
    },
    {
     "data": {
      "image/png": "[encoded data removed]",
      "text/plain": [
       "<Figure size 432x288 with 1 Axes>"
      ]
     },
     "metadata": {},
     "output_type": "display_data"
    }
   ],
   "source": [
    "# Shows the number of ratings per product\n",
    "quantiles = number_of_ratings_per_product.quantile(np.arange(0,1.01,0.01))\n",
    "plt.plot(quantiles)\n",
    "plt.title(\"Number of ratings per product\")\n",
    "plt.ylabel('Number of ratings per product')\n",
    "plt.xlabel('Value at the quantile')"
   ]
  },
  {
   "cell_type": "code",
   "execution_count": 17,
   "metadata": {},
   "outputs": [
    {
     "name": "stdout",
     "output_type": "stream",
     "text": [
      "Total number of products: 476002\n",
      "Number of products getting more than 20 ratings: 57791\n",
      "% of products getting more than 20 ratings: 12.14 %\n"
     ]
    }
   ],
   "source": [
    "# Percentage of products that get more than 20 ratings\n",
    "\n",
    "total_products = sum(number_of_ratings_per_product.iloc[:,1] >= 0)\n",
    "fraction_products = sum(number_of_ratings_per_product.iloc[:,1] >= 20)\n",
    "percentage = fraction_products/total_products*100\n",
    "\n",
    "print('Total number of products: {}'.format(total_products))\n",
    "print('Number of products getting more than 20 ratings: {}'.format(fraction_products))\n",
    "print('% of products getting more than 20 ratings: {:.2f} %'.format(percentage))"
   ]
  },
  {
   "cell_type": "markdown",
   "metadata": {},
   "source": [
    "# Neural Collaborativ Filtering\n",
    "\n",
    "Used the following implementations as a basis for the prototype:\n",
    "- https://keras.io/examples/structured_data/collaborative_filtering_movielens/\n",
    "- https://medium.com/@jdwittenauer/deep-learning-with-keras-recommender-systems-e7b99cb29929"
   ]
  },
  {
   "cell_type": "code",
   "execution_count": 18,
   "metadata": {},
   "outputs": [
    {
     "data": {
      "text/html": [
       "<div>\n",
       "<style scoped>\n",
       "    .dataframe tbody tr th:only-of-type {\n",
       "        vertical-align: middle;\n",
       "    }\n",
       "\n",
       "    .dataframe tbody tr th {\n",
       "        vertical-align: top;\n",
       "    }\n",
       "\n",
       "    .dataframe thead th {\n",
       "        text-align: right;\n",
       "    }\n",
       "</style>\n",
       "<table border=\"1\" class=\"dataframe\">\n",
       "  <thead>\n",
       "    <tr style=\"text-align: right;\">\n",
       "      <th></th>\n",
       "      <th>userId</th>\n",
       "      <th>productId</th>\n",
       "      <th>rating</th>\n",
       "      <th>timestamp</th>\n",
       "    </tr>\n",
       "  </thead>\n",
       "  <tbody>\n",
       "    <tr>\n",
       "      <td>0</td>\n",
       "      <td>AKM1MP6P0OYPR</td>\n",
       "      <td>0132793040</td>\n",
       "      <td>5.0</td>\n",
       "      <td>1365811200</td>\n",
       "    </tr>\n",
       "    <tr>\n",
       "      <td>1</td>\n",
       "      <td>A2CX7LUOHB2NDG</td>\n",
       "      <td>0321732944</td>\n",
       "      <td>5.0</td>\n",
       "      <td>1341100800</td>\n",
       "    </tr>\n",
       "    <tr>\n",
       "      <td>2</td>\n",
       "      <td>A2NWSAGRHCP8N5</td>\n",
       "      <td>0439886341</td>\n",
       "      <td>1.0</td>\n",
       "      <td>1367193600</td>\n",
       "    </tr>\n",
       "    <tr>\n",
       "      <td>3</td>\n",
       "      <td>A2WNBOD3WNDNKT</td>\n",
       "      <td>0439886341</td>\n",
       "      <td>3.0</td>\n",
       "      <td>1374451200</td>\n",
       "    </tr>\n",
       "    <tr>\n",
       "      <td>4</td>\n",
       "      <td>A1GI0U4ZRJA8WN</td>\n",
       "      <td>0439886341</td>\n",
       "      <td>1.0</td>\n",
       "      <td>1334707200</td>\n",
       "    </tr>\n",
       "  </tbody>\n",
       "</table>\n",
       "</div>"
      ],
      "text/plain": [
       "           userId   productId  rating   timestamp\n",
       "0   AKM1MP6P0OYPR  0132793040     5.0  1365811200\n",
       "1  A2CX7LUOHB2NDG  0321732944     5.0  1341100800\n",
       "2  A2NWSAGRHCP8N5  0439886341     1.0  1367193600\n",
       "3  A2WNBOD3WNDNKT  0439886341     3.0  1374451200\n",
       "4  A1GI0U4ZRJA8WN  0439886341     1.0  1334707200"
      ]
     },
     "execution_count": 18,
     "metadata": {},
     "output_type": "execute_result"
    }
   ],
   "source": [
    "electronics_ratings = pd.read_csv(\"ratings_electronics.csv\")\n",
    "\n",
    "electronics_ratings.head()"
   ]
  },
  {
   "cell_type": "code",
   "execution_count": 19,
   "metadata": {},
   "outputs": [],
   "source": [
    "# Reduce data set due to limited computational power of personal computer \n",
    "electronics_ratings = electronics_ratings.head(150000)\n",
    "\n",
    "# Shuffle data to ensure that the model remains generalized and does not overfit as suggested here:\n",
    "# https://datascience.stackexchange.com/questions/24511/why-should-the-data-be-shuffled-for-machine-learning-tasks\n",
    "electronics_ratings = electronics_ratings.sample(frac=1, random_state=42)"
   ]
  },
  {
   "cell_type": "code",
   "execution_count": 20,
   "metadata": {},
   "outputs": [
    {
     "data": {
      "text/html": [
       "<div>\n",
       "<style scoped>\n",
       "    .dataframe tbody tr th:only-of-type {\n",
       "        vertical-align: middle;\n",
       "    }\n",
       "\n",
       "    .dataframe tbody tr th {\n",
       "        vertical-align: top;\n",
       "    }\n",
       "\n",
       "    .dataframe thead th {\n",
       "        text-align: right;\n",
       "    }\n",
       "</style>\n",
       "<table border=\"1\" class=\"dataframe\">\n",
       "  <thead>\n",
       "    <tr style=\"text-align: right;\">\n",
       "      <th></th>\n",
       "      <th>userId</th>\n",
       "      <th>productId</th>\n",
       "      <th>rating</th>\n",
       "      <th>timestamp</th>\n",
       "      <th>user</th>\n",
       "    </tr>\n",
       "  </thead>\n",
       "  <tbody>\n",
       "    <tr>\n",
       "      <td>59770</td>\n",
       "      <td>A2CTXKY2EG7YBO</td>\n",
       "      <td>B00004WHFD</td>\n",
       "      <td>5.0</td>\n",
       "      <td>1022025600</td>\n",
       "      <td>47638</td>\n",
       "    </tr>\n",
       "    <tr>\n",
       "      <td>21362</td>\n",
       "      <td>A292403A8I1KUA</td>\n",
       "      <td>B00001P4XA</td>\n",
       "      <td>2.0</td>\n",
       "      <td>1247788800</td>\n",
       "      <td>43982</td>\n",
       "    </tr>\n",
       "    <tr>\n",
       "      <td>127324</td>\n",
       "      <td>AW11P3PUMIK0L</td>\n",
       "      <td>B00005UKBM</td>\n",
       "      <td>1.0</td>\n",
       "      <td>1007942400</td>\n",
       "      <td>128607</td>\n",
       "    </tr>\n",
       "    <tr>\n",
       "      <td>140509</td>\n",
       "      <td>A78KDHB6OQK1G</td>\n",
       "      <td>B000065AGC</td>\n",
       "      <td>5.0</td>\n",
       "      <td>1041379200</td>\n",
       "      <td>104580</td>\n",
       "    </tr>\n",
       "    <tr>\n",
       "      <td>144297</td>\n",
       "      <td>A27W3GUYY3TXHM</td>\n",
       "      <td>B000065UDU</td>\n",
       "      <td>4.0</td>\n",
       "      <td>1292457600</td>\n",
       "      <td>42933</td>\n",
       "    </tr>\n",
       "  </tbody>\n",
       "</table>\n",
       "</div>"
      ],
      "text/plain": [
       "                userId   productId  rating   timestamp    user\n",
       "59770   A2CTXKY2EG7YBO  B00004WHFD     5.0  1022025600   47638\n",
       "21362   A292403A8I1KUA  B00001P4XA     2.0  1247788800   43982\n",
       "127324   AW11P3PUMIK0L  B00005UKBM     1.0  1007942400  128607\n",
       "140509   A78KDHB6OQK1G  B000065AGC     5.0  1041379200  104580\n",
       "144297  A27W3GUYY3TXHM  B000065UDU     4.0  1292457600   42933"
      ]
     },
     "execution_count": 20,
     "metadata": {},
     "output_type": "execute_result"
    }
   ],
   "source": [
    "# Create a new user column with sequential integers using LabelEncoder\n",
    "# This is required \n",
    "user_encoder = LabelEncoder()\n",
    "electronics_ratings['user'] = user_encoder.fit_transform(electronics_ratings['userId'].values)\n",
    "\n",
    "electronics_ratings.head()"
   ]
  },
  {
   "cell_type": "code",
   "execution_count": 21,
   "metadata": {},
   "outputs": [
    {
     "data": {
      "text/html": [
       "<div>\n",
       "<style scoped>\n",
       "    .dataframe tbody tr th:only-of-type {\n",
       "        vertical-align: middle;\n",
       "    }\n",
       "\n",
       "    .dataframe tbody tr th {\n",
       "        vertical-align: top;\n",
       "    }\n",
       "\n",
       "    .dataframe thead th {\n",
       "        text-align: right;\n",
       "    }\n",
       "</style>\n",
       "<table border=\"1\" class=\"dataframe\">\n",
       "  <thead>\n",
       "    <tr style=\"text-align: right;\">\n",
       "      <th></th>\n",
       "      <th>userId</th>\n",
       "      <th>productId</th>\n",
       "      <th>rating</th>\n",
       "      <th>timestamp</th>\n",
       "      <th>user</th>\n",
       "      <th>product</th>\n",
       "    </tr>\n",
       "  </thead>\n",
       "  <tbody>\n",
       "    <tr>\n",
       "      <td>59770</td>\n",
       "      <td>A2CTXKY2EG7YBO</td>\n",
       "      <td>B00004WHFD</td>\n",
       "      <td>5.0</td>\n",
       "      <td>1022025600</td>\n",
       "      <td>47638</td>\n",
       "      <td>4121</td>\n",
       "    </tr>\n",
       "    <tr>\n",
       "      <td>21362</td>\n",
       "      <td>A292403A8I1KUA</td>\n",
       "      <td>B00001P4XA</td>\n",
       "      <td>2.0</td>\n",
       "      <td>1247788800</td>\n",
       "      <td>43982</td>\n",
       "      <td>2104</td>\n",
       "    </tr>\n",
       "    <tr>\n",
       "      <td>127324</td>\n",
       "      <td>AW11P3PUMIK0L</td>\n",
       "      <td>B00005UKBM</td>\n",
       "      <td>1.0</td>\n",
       "      <td>1007942400</td>\n",
       "      <td>128607</td>\n",
       "      <td>8468</td>\n",
       "    </tr>\n",
       "    <tr>\n",
       "      <td>140509</td>\n",
       "      <td>A78KDHB6OQK1G</td>\n",
       "      <td>B000065AGC</td>\n",
       "      <td>5.0</td>\n",
       "      <td>1041379200</td>\n",
       "      <td>104580</td>\n",
       "      <td>9376</td>\n",
       "    </tr>\n",
       "    <tr>\n",
       "      <td>144297</td>\n",
       "      <td>A27W3GUYY3TXHM</td>\n",
       "      <td>B000065UDU</td>\n",
       "      <td>4.0</td>\n",
       "      <td>1292457600</td>\n",
       "      <td>42933</td>\n",
       "      <td>9415</td>\n",
       "    </tr>\n",
       "  </tbody>\n",
       "</table>\n",
       "</div>"
      ],
      "text/plain": [
       "                userId   productId  rating   timestamp    user  product\n",
       "59770   A2CTXKY2EG7YBO  B00004WHFD     5.0  1022025600   47638     4121\n",
       "21362   A292403A8I1KUA  B00001P4XA     2.0  1247788800   43982     2104\n",
       "127324   AW11P3PUMIK0L  B00005UKBM     1.0  1007942400  128607     8468\n",
       "140509   A78KDHB6OQK1G  B000065AGC     5.0  1041379200  104580     9376\n",
       "144297  A27W3GUYY3TXHM  B000065UDU     4.0  1292457600   42933     9415"
      ]
     },
     "execution_count": 21,
     "metadata": {},
     "output_type": "execute_result"
    }
   ],
   "source": [
    "# Create a new product column with sequential integers using LabelEncoder\n",
    "# This is required \n",
    "product_encoder = LabelEncoder()\n",
    "electronics_ratings['product'] = product_encoder.fit_transform(electronics_ratings['productId'].values)\n",
    "\n",
    "\n",
    "electronics_ratings.head()"
   ]
  },
  {
   "cell_type": "code",
   "execution_count": 22,
   "metadata": {},
   "outputs": [
    {
     "data": {
      "text/plain": [
       "(1.0, 5.0, 132368, 9734)"
      ]
     },
     "execution_count": 22,
     "metadata": {},
     "output_type": "execute_result"
    }
   ],
   "source": [
    "# Transform datatype of ratings to float32 as this allows to sore more content in memory as explained here:\n",
    "# https://www.quora.com/When-should-I-use-tf-float32-vs-tf-float64-in-TensorFlow\n",
    "electronics_ratings['rating'] = electronics_ratings['rating'].values.astype(np.float32)\n",
    "\n",
    "# Get min and max values of ratings to normalize the ratings later\n",
    "min_rating = min(electronics_ratings['rating'])\n",
    "max_rating = max(electronics_ratings['rating'])\n",
    "\n",
    "# Get number of unique users and products as they are required for the model \n",
    "n_users = electronics_ratings['user'].nunique()\n",
    "n_products = electronics_ratings['product'].nunique()\n",
    "\n",
    "min_rating, max_rating, n_users, n_products"
   ]
  },
  {
   "cell_type": "code",
   "execution_count": 23,
   "metadata": {},
   "outputs": [
    {
     "data": {
      "text/plain": [
       "((135000, 2), (15000, 2), (135000,), (15000,))"
      ]
     },
     "execution_count": 23,
     "metadata": {},
     "output_type": "execute_result"
    }
   ],
   "source": [
    "# Create training and test data \n",
    "X = electronics_ratings[['user', 'product']].values\n",
    "y = electronics_ratings['rating'].values\n",
    "\n",
    "# Use 90 % of data for training and 10 % for testing\n",
    "X_train, X_test, y_train, y_test = train_test_split(X, y, test_size=0.1, random_state=42)\n",
    "X_train.shape, X_test.shape, y_train.shape, y_test.shape"
   ]
  },
  {
   "cell_type": "code",
   "execution_count": 24,
   "metadata": {},
   "outputs": [],
   "source": [
    "# Define the embeddingt size / number of vector dimensions\n",
    "# 50 was suggested in both previously mentioned articles\n",
    "n_factors = 50\n",
    "\n",
    "# Separate user data and product data into separate arrays in the training and test data\n",
    "# This has to be done as each array needs to be provided to the Keras model separatly\n",
    "X_train_array = [X_train[:, 0], X_train[:, 1]]\n",
    "X_test_array = [X_test[:, 0], X_test[:, 1]]"
   ]
  },
  {
   "cell_type": "code",
   "execution_count": null,
   "metadata": {},
   "outputs": [],
   "source": []
  },
  {
   "cell_type": "code",
   "execution_count": 84,
   "metadata": {},
   "outputs": [],
   "source": [
    "# Used the deep learning capabilities of Keras to build the different layers of the neural network:\n",
    "# https://keras.io/api/layers/core_layers/\n",
    "\n",
    "# Used to make the creation of Embedding Layers easier\n",
    "class EmbeddingLayer:\n",
    "    \n",
    "    # Initialize class with values\n",
    "    def __init__(self, n_items, n_factors):\n",
    "        self.n_items = n_items\n",
    "        self.n_factors = n_factors\n",
    "    \n",
    "    # Call class\n",
    "    def __call__(self, x):\n",
    "        \n",
    "        # Create Embedding Layer\n",
    "        x = Embedding(self.n_items, self.n_factors, embeddings_initializer='he_normal',\n",
    "                      embeddings_regularizer=l2(1e-6))(x)\n",
    "        \n",
    "        # Rehape Embedding Layer\n",
    "        x = Reshape((self.n_factors,))(x)\n",
    "        \n",
    "        return x\n",
    "\n",
    "def Recommender(n_users, n_products, n_factors, min_rating, max_rating):\n",
    "    \n",
    "    # Define Input Layer for user\n",
    "    user = Input(shape=(1,))\n",
    "    \n",
    "    # Define Embedding Layer for user\n",
    "    u = EmbeddingLayer(n_users, n_factors)(user)\n",
    "    \n",
    "    # Define Input Layer for product\n",
    "    product = Input(shape=(1,))\n",
    "    \n",
    "    # Define Embedding Layer for product\n",
    "    m = EmbeddingLayer(n_products, n_factors)(product)\n",
    "    \n",
    "    # Concatenate user and product data and apply droput to avoid overfitting\n",
    "    x = Concatenate()([u, m])\n",
    "    x = Dropout(0.2)(x)\n",
    "    \n",
    "    # Add a layer with 10 neurons that is activated through Relu and to which a dropout is applied\n",
    "    x = Dense(10, kernel_initializer='he_normal')(x)\n",
    "    x = Activation('relu')(x)\n",
    "    x = Dropout(0.2)(x)\n",
    "    \n",
    "    # Add a layer with one neuron that is activated through Sigmoid\n",
    "    x = Dense(1, kernel_initializer='he_normal')(x)\n",
    "    x = Activation('sigmoid')(x)\n",
    "    \n",
    "    # Normalize results to increase performance\n",
    "    x = Lambda(lambda x: x * (max_rating - min_rating) + min_rating)(x)\n",
    "    \n",
    "    # Create and initialize model with inputs\n",
    "    model = Model(inputs=[user, product], outputs=x)\n",
    "    \n",
    "    # Define optimizer and respective learning rate\n",
    "    # Adam is choosen as the optimizer as it creates good results for ton a wide range of problems based on the following \n",
    "    # resource: https://machinelearningmastery.com/tutorial-first-neural-network-python-keras/\n",
    "    # After trying out several learning rates, 0.0003 seems to perform the best results avoiding overfitting of the training data\n",
    "    opt = Adam(learning_rate=0.00003)\n",
    "    \n",
    "    # Compile model and calculate loss using mean squared error\n",
    "    model.compile(loss='mean_squared_error', optimizer=opt)\n",
    "    return model\n"
   ]
  },
  {
   "cell_type": "code",
   "execution_count": 85,
   "metadata": {},
   "outputs": [
    {
     "name": "stdout",
     "output_type": "stream",
     "text": [
      "Model: \"model_6\"\n",
      "__________________________________________________________________________________________________\n",
      "Layer (type)                    Output Shape         Param #     Connected to                     \n",
      "==================================================================================================\n",
      "input_11 (InputLayer)           (None, 1)            0                                            \n",
      "__________________________________________________________________________________________________\n",
      "input_12 (InputLayer)           (None, 1)            0                                            \n",
      "__________________________________________________________________________________________________\n",
      "embedding_11 (Embedding)        (None, 1, 50)        6618400     input_11[0][0]                   \n",
      "__________________________________________________________________________________________________\n",
      "embedding_12 (Embedding)        (None, 1, 50)        486700      input_12[0][0]                   \n",
      "__________________________________________________________________________________________________\n",
      "reshape_11 (Reshape)            (None, 50)           0           embedding_11[0][0]               \n",
      "__________________________________________________________________________________________________\n",
      "reshape_12 (Reshape)            (None, 50)           0           embedding_12[0][0]               \n",
      "__________________________________________________________________________________________________\n",
      "concatenate_6 (Concatenate)     (None, 100)          0           reshape_11[0][0]                 \n",
      "                                                                 reshape_12[0][0]                 \n",
      "__________________________________________________________________________________________________\n",
      "dropout_11 (Dropout)            (None, 100)          0           concatenate_6[0][0]              \n",
      "__________________________________________________________________________________________________\n",
      "dense_11 (Dense)                (None, 10)           1010        dropout_11[0][0]                 \n",
      "__________________________________________________________________________________________________\n",
      "activation_11 (Activation)      (None, 10)           0           dense_11[0][0]                   \n",
      "__________________________________________________________________________________________________\n",
      "dropout_12 (Dropout)            (None, 10)           0           activation_11[0][0]              \n",
      "__________________________________________________________________________________________________\n",
      "dense_12 (Dense)                (None, 1)            11          dropout_12[0][0]                 \n",
      "__________________________________________________________________________________________________\n",
      "activation_12 (Activation)      (None, 1)            0           dense_12[0][0]                   \n",
      "__________________________________________________________________________________________________\n",
      "lambda_6 (Lambda)               (None, 1)            0           activation_12[0][0]              \n",
      "==================================================================================================\n",
      "Total params: 7,106,121\n",
      "Trainable params: 7,106,121\n",
      "Non-trainable params: 0\n",
      "__________________________________________________________________________________________________\n"
     ]
    }
   ],
   "source": [
    "# Create and intialize model\n",
    "model = Recommender(n_users, n_products, n_factors, min_rating, max_rating)\n",
    "model.summary()"
   ]
  },
  {
   "cell_type": "code",
   "execution_count": null,
   "metadata": {},
   "outputs": [],
   "source": [
    "# Fit data to model\n",
    "history = model.fit(x=X_train_array, y=y_train, batch_size=64, epochs=5, verbose=1, validation_data=(X_test_array, y_test))\n",
    "\n"
   ]
  },
  {
   "cell_type": "code",
   "execution_count": 86,
   "metadata": {},
   "outputs": [
    {
     "data": {
      "image/png": "[encoded data removed]",
      "text/plain": [
       "<Figure size 432x288 with 1 Axes>"
      ]
     },
     "metadata": {},
     "output_type": "display_data"
    }
   ],
   "source": [
    "# Visualize model performance\n",
    "plt.plot(history.history[\"loss\"])\n",
    "plt.plot(history.history[\"val_loss\"])\n",
    "plt.title(\"model loss\")\n",
    "plt.ylabel(\"loss\")\n",
    "plt.xlabel(\"epoch\")\n",
    "plt.legend([\"train\", \"test\"], loc=\"upper left\")\n",
    "plt.show()"
   ]
  },
  {
   "cell_type": "code",
   "execution_count": 87,
   "metadata": {},
   "outputs": [
    {
     "data": {
      "text/html": [
       "<div>\n",
       "<style scoped>\n",
       "    .dataframe tbody tr th:only-of-type {\n",
       "        vertical-align: middle;\n",
       "    }\n",
       "\n",
       "    .dataframe tbody tr th {\n",
       "        vertical-align: top;\n",
       "    }\n",
       "\n",
       "    .dataframe thead th {\n",
       "        text-align: right;\n",
       "    }\n",
       "</style>\n",
       "<table border=\"1\" class=\"dataframe\">\n",
       "  <thead>\n",
       "    <tr style=\"text-align: right;\">\n",
       "      <th></th>\n",
       "      <th>userId</th>\n",
       "      <th>productId</th>\n",
       "      <th>rating</th>\n",
       "      <th>timestamp</th>\n",
       "      <th>user</th>\n",
       "      <th>product</th>\n",
       "    </tr>\n",
       "  </thead>\n",
       "  <tbody>\n",
       "    <tr>\n",
       "      <td>59770</td>\n",
       "      <td>A2CTXKY2EG7YBO</td>\n",
       "      <td>B00004WHFD</td>\n",
       "      <td>5.0</td>\n",
       "      <td>1022025600</td>\n",
       "      <td>0</td>\n",
       "      <td>0</td>\n",
       "    </tr>\n",
       "    <tr>\n",
       "      <td>21362</td>\n",
       "      <td>A292403A8I1KUA</td>\n",
       "      <td>B00001P4XA</td>\n",
       "      <td>2.0</td>\n",
       "      <td>1247788800</td>\n",
       "      <td>1</td>\n",
       "      <td>1</td>\n",
       "    </tr>\n",
       "    <tr>\n",
       "      <td>127324</td>\n",
       "      <td>AW11P3PUMIK0L</td>\n",
       "      <td>B00005UKBM</td>\n",
       "      <td>1.0</td>\n",
       "      <td>1007942400</td>\n",
       "      <td>2</td>\n",
       "      <td>2</td>\n",
       "    </tr>\n",
       "    <tr>\n",
       "      <td>140509</td>\n",
       "      <td>A78KDHB6OQK1G</td>\n",
       "      <td>B000065AGC</td>\n",
       "      <td>5.0</td>\n",
       "      <td>1041379200</td>\n",
       "      <td>3</td>\n",
       "      <td>3</td>\n",
       "    </tr>\n",
       "    <tr>\n",
       "      <td>144297</td>\n",
       "      <td>A27W3GUYY3TXHM</td>\n",
       "      <td>B000065UDU</td>\n",
       "      <td>4.0</td>\n",
       "      <td>1292457600</td>\n",
       "      <td>4</td>\n",
       "      <td>4</td>\n",
       "    </tr>\n",
       "  </tbody>\n",
       "</table>\n",
       "</div>"
      ],
      "text/plain": [
       "                userId   productId  rating   timestamp  user  product\n",
       "59770   A2CTXKY2EG7YBO  B00004WHFD     5.0  1022025600     0        0\n",
       "21362   A292403A8I1KUA  B00001P4XA     2.0  1247788800     1        1\n",
       "127324   AW11P3PUMIK0L  B00005UKBM     1.0  1007942400     2        2\n",
       "140509   A78KDHB6OQK1G  B000065AGC     5.0  1041379200     3        3\n",
       "144297  A27W3GUYY3TXHM  B000065UDU     4.0  1292457600     4        4"
      ]
     },
     "execution_count": 87,
     "metadata": {},
     "output_type": "execute_result"
    }
   ],
   "source": [
    "userIds = electronics_ratings[\"userId\"].unique().tolist()\n",
    "user2user_encoded = {x: i for i, x in enumerate(userIds)} # {'AKM1MP6P0OYPR': 0, 'A2CX7LUOHB2NDG': 1, ...}\n",
    "userencoded2user = {i: x for i, x in enumerate(userIds)}  # {0: 'AKM1MP6P0OYPR', 1: 'A2CX7LUOHB2NDG', ...}\n",
    "electronics_ratings[\"user\"] = electronics_ratings[\"userId\"].map(user2user_encoded) # Ccrea\n",
    "electronics_ratings.head()"
   ]
  },
  {
   "cell_type": "code",
   "execution_count": 88,
   "metadata": {},
   "outputs": [
    {
     "data": {
      "text/html": [
       "<div>\n",
       "<style scoped>\n",
       "    .dataframe tbody tr th:only-of-type {\n",
       "        vertical-align: middle;\n",
       "    }\n",
       "\n",
       "    .dataframe tbody tr th {\n",
       "        vertical-align: top;\n",
       "    }\n",
       "\n",
       "    .dataframe thead th {\n",
       "        text-align: right;\n",
       "    }\n",
       "</style>\n",
       "<table border=\"1\" class=\"dataframe\">\n",
       "  <thead>\n",
       "    <tr style=\"text-align: right;\">\n",
       "      <th></th>\n",
       "      <th>userId</th>\n",
       "      <th>productId</th>\n",
       "      <th>rating</th>\n",
       "      <th>timestamp</th>\n",
       "      <th>user</th>\n",
       "      <th>product</th>\n",
       "    </tr>\n",
       "  </thead>\n",
       "  <tbody>\n",
       "    <tr>\n",
       "      <td>59770</td>\n",
       "      <td>A2CTXKY2EG7YBO</td>\n",
       "      <td>B00004WHFD</td>\n",
       "      <td>5.0</td>\n",
       "      <td>1022025600</td>\n",
       "      <td>0</td>\n",
       "      <td>0</td>\n",
       "    </tr>\n",
       "    <tr>\n",
       "      <td>21362</td>\n",
       "      <td>A292403A8I1KUA</td>\n",
       "      <td>B00001P4XA</td>\n",
       "      <td>2.0</td>\n",
       "      <td>1247788800</td>\n",
       "      <td>1</td>\n",
       "      <td>1</td>\n",
       "    </tr>\n",
       "    <tr>\n",
       "      <td>127324</td>\n",
       "      <td>AW11P3PUMIK0L</td>\n",
       "      <td>B00005UKBM</td>\n",
       "      <td>1.0</td>\n",
       "      <td>1007942400</td>\n",
       "      <td>2</td>\n",
       "      <td>2</td>\n",
       "    </tr>\n",
       "    <tr>\n",
       "      <td>140509</td>\n",
       "      <td>A78KDHB6OQK1G</td>\n",
       "      <td>B000065AGC</td>\n",
       "      <td>5.0</td>\n",
       "      <td>1041379200</td>\n",
       "      <td>3</td>\n",
       "      <td>3</td>\n",
       "    </tr>\n",
       "    <tr>\n",
       "      <td>144297</td>\n",
       "      <td>A27W3GUYY3TXHM</td>\n",
       "      <td>B000065UDU</td>\n",
       "      <td>4.0</td>\n",
       "      <td>1292457600</td>\n",
       "      <td>4</td>\n",
       "      <td>4</td>\n",
       "    </tr>\n",
       "  </tbody>\n",
       "</table>\n",
       "</div>"
      ],
      "text/plain": [
       "                userId   productId  rating   timestamp  user  product\n",
       "59770   A2CTXKY2EG7YBO  B00004WHFD     5.0  1022025600     0        0\n",
       "21362   A292403A8I1KUA  B00001P4XA     2.0  1247788800     1        1\n",
       "127324   AW11P3PUMIK0L  B00005UKBM     1.0  1007942400     2        2\n",
       "140509   A78KDHB6OQK1G  B000065AGC     5.0  1041379200     3        3\n",
       "144297  A27W3GUYY3TXHM  B000065UDU     4.0  1292457600     4        4"
      ]
     },
     "execution_count": 88,
     "metadata": {},
     "output_type": "execute_result"
    }
   ],
   "source": [
    "productIds = electronics_ratings[\"productId\"].unique().tolist()\n",
    "product2product_encoded = {x: i for i, x in enumerate(productIds)} # {'0132793040': 0, '0321732944': 1, ...}\n",
    "product_encoded2product = {i: x for i, x in enumerate(productIds)} # {0: '0132793040', 1: '0321732944', ...}\n",
    "electronics_ratings[\"product\"] = electronics_ratings[\"productId\"].map(product2product_encoded)\n",
    "electronics_ratings.head()"
   ]
  },
  {
   "cell_type": "code",
   "execution_count": 89,
   "metadata": {},
   "outputs": [
    {
     "data": {
      "text/plain": [
       "'A12HRF8IPX56IY'"
      ]
     },
     "metadata": {},
     "output_type": "display_data"
    }
   ],
   "source": [
    "# Get a random user \n",
    "user_id = electronics_ratings.userId.sample(1).iloc[0]\n",
    "\n",
    "display(user_id)\n",
    "# Get the products that were rated by the user\n",
    "products_rated_by_user = electronics_ratings[electronics_ratings.userId == user_id]\n",
    "\n",
    "# Get the products that were not rated by the user\n",
    "products_not_rated = electronics_ratings[\n",
    "    ~electronics_ratings[\"productId\"].isin(products_rated_by_user.productId.values)\n",
    "][\"productId\"]\n",
    "\n",
    "products_not_rated = list(\n",
    "    set(products_not_rated).intersection(set(product2product_encoded.keys()))\n",
    ")\n",
    "\n",
    "products_not_rated = [[product2product_encoded.get(x)] for x in products_not_rated]\n",
    "\n",
    "user_encoder = user2user_encoded.get(user_id)\n",
    "\n",
    "a = np.hstack(\n",
    "    ([[user_encoder]] * len(products_not_rated), products_not_rated)\n",
    ")\n",
    "\n",
    "user_product_array = [a[:, 0], a[:, 1]]\n",
    "\n",
    "ratings = model.predict(user_product_array).flatten()\n",
    "\n",
    "top_ratings_indices = ratings.argsort()[-10:][::-1]\n",
    "\n",
    "recommended_productIds = [\n",
    "    product_encoded2product.get(products_not_rated[x][0]) for x in top_ratings_indices\n",
    "]"
   ]
  },
  {
   "cell_type": "code",
   "execution_count": 90,
   "metadata": {},
   "outputs": [
    {
     "name": "stdout",
     "output_type": "stream",
     "text": [
      "Showing recommendations for user: A12HRF8IPX56IY\n",
      "====================================\n",
      "Products with high ratings from user\n",
      "--------------------------------\n",
      "B00005Z24Y\n",
      "--------------------------------\n",
      "Top 10 product recommendations\n",
      "--------------------------------\n",
      "B000001OM5\n",
      "B0000659TT\n",
      "B00002CEX9\n",
      "B00005LL6C\n",
      "B000063WPD\n",
      "B00003CWBJ\n",
      "B00005I9RA\n",
      "996656988X\n",
      "B0000501TI\n",
      "B0000632GY\n"
     ]
    }
   ],
   "source": [
    "print(\"Showing recommendations for user: {}\".format(user_id))\n",
    "print(\"====\" * 9)\n",
    "print(\"Products with high ratings from user\")\n",
    "print(\"----\" * 8)\n",
    "\n",
    "top_product_user = (\n",
    "    products_rated_by_user.sort_values(by=\"rating\", ascending=False)\n",
    "    .head(5)\n",
    "    .productId.values\n",
    ")\n",
    "\n",
    "product_electronics_ratings_rows = electronics_ratings[electronics_ratings[\"productId\"].isin(top_product_user)]\n",
    "\n",
    "product_electronics_ratings_rows = product_electronics_ratings_rows.productId.unique()\n",
    "\n",
    "for productId in product_electronics_ratings_rows:\n",
    "    print(productId)\n",
    "    \n",
    "print(\"----\" * 8)\n",
    "print(\"Top 10 product recommendations\")\n",
    "print(\"----\" * 8)\n",
    "recommended_products = electronics_ratings[electronics_ratings[\"productId\"].isin(recommended_productIds)]\n",
    "recommended_products = recommended_products.productId.unique()\n",
    "\n",
    "for productId in recommended_products:\n",
    "    print(productId)"
   ]
  },
  {
   "cell_type": "code",
   "execution_count": null,
   "metadata": {},
   "outputs": [],
   "source": []
  },
  {
   "cell_type": "code",
   "execution_count": null,
   "metadata": {},
   "outputs": [],
   "source": []
  }
 ],
 "metadata": {
  "kernelspec": {
   "display_name": "Python 3",
   "language": "python",
   "name": "python3"
  },
  "language_info": {
   "codemirror_mode": {
    "name": "ipython",
    "version": 3
   },
   "file_extension": ".py",
   "mimetype": "text/x-python",
   "name": "python",
   "nbconvert_exporter": "python",
   "pygments_lexer": "ipython3",
   "version": "3.7.4"
  }
 },
 "nbformat": 4,
 "nbformat_minor": 2
}
